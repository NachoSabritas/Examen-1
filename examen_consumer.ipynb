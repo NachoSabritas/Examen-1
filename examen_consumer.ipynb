{
  "nbformat": 4,
  "nbformat_minor": 0,
  "metadata": {
    "colab": {
      "provenance": [],
      "authorship_tag": "ABX9TyOHp3TVEd4xhR5Gm7Y5aFcQ",
      "include_colab_link": true
    },
    "kernelspec": {
      "name": "python3",
      "display_name": "Python 3"
    },
    "language_info": {
      "name": "python"
    }
  },
  "cells": [
    {
      "cell_type": "markdown",
      "metadata": {
        "id": "view-in-github",
        "colab_type": "text"
      },
      "source": [
        "<a href=\"https://colab.research.google.com/github/NachoSabritas/Examen-1/blob/main/examen_consumer.ipynb\" target=\"_parent\"><img src=\"https://colab.research.google.com/assets/colab-badge.svg\" alt=\"Open In Colab\"/></a>"
      ]
    },
    {
      "cell_type": "code",
      "execution_count": null,
      "metadata": {
        "id": "1J-qWiA1-i6e"
      },
      "outputs": [],
      "source": [
        "#Instalamos libreria para analisisi de variables categoricas\n",
        "%pip install funpymodeling"
      ]
    },
    {
      "cell_type": "code",
      "source": [
        "#Importamos librerias requeridas\n",
        "import pandas as pd\n",
        "import numpy as np\n",
        "import matplotlib.pyplot as plt\n",
        "from funpymodeling.exploratory import freq_tbl\n",
        "import seaborn as sns\n",
        "import io"
      ],
      "metadata": {
        "id": "tl-bx3Gx-8b0"
      },
      "execution_count": null,
      "outputs": []
    },
    {
      "cell_type": "code",
      "source": [
        "#Cargar archivo csv desde equipo\n",
        "from google.colab import files\n",
        "files.upload()"
      ],
      "metadata": {
        "id": "gqHgaJXU_l0d"
      },
      "execution_count": null,
      "outputs": []
    },
    {
      "cell_type": "code",
      "source": [
        "#Cargar desde un archivo .xlsx sin indice\n",
        "consumer_mit_lift_lab= pd.read_excel(\"consumer_mit_lift_lab.xlsx\")"
      ],
      "metadata": {
        "id": "6sM9YNiF_mnA"
      },
      "execution_count": null,
      "outputs": []
    },
    {
      "cell_type": "code",
      "source": [
        "#Verificamos informacion del DataFrame\n",
        "consumer_mit_lift_lab.info()\n"
      ],
      "metadata": {
        "colab": {
          "base_uri": "https://localhost:8080/"
        },
        "id": "7FPcV2U__uyO",
        "outputId": "e17de60f-dddd-41f6-ce77-a1c739121900"
      },
      "execution_count": null,
      "outputs": [
        {
          "output_type": "stream",
          "name": "stdout",
          "text": [
            "<class 'pandas.core.frame.DataFrame'>\n",
            "RangeIndex: 115 entries, 0 to 114\n",
            "Data columns (total 36 columns):\n",
            " #   Column                                    Non-Null Count  Dtype  \n",
            "---  ------                                    --------------  -----  \n",
            " 0   _record_id                                115 non-null    object \n",
            " 1   _title                                    115 non-null    object \n",
            " 2   _server_updated_at                        115 non-null    object \n",
            " 3   _updated_by                               115 non-null    object \n",
            " 4   _geometry                                 115 non-null    object \n",
            " 5   _latitude                                 115 non-null    float64\n",
            " 6   _longitude                                115 non-null    float64\n",
            " 7   282_payment_method_that_purchase          115 non-null    object \n",
            " 8   283_fulfill_needs                         115 non-null    object \n",
            " 9   300_did_not_find                          6 non-null      object \n",
            " 10  237_distance_household_interviewee        115 non-null    object \n",
            " 11  299_means_transportation_consumer         115 non-null    object \n",
            " 12  238_frequency_buying_store                115 non-null    int64  \n",
            " 13  284_additional_products_store             4 non-null      object \n",
            " 14  301_electricity_bill                      115 non-null    object \n",
            " 15  305_electricity_bill_store                108 non-null    object \n",
            " 16  302_water_bill                            115 non-null    object \n",
            " 17  306_water_bill_store                      111 non-null    object \n",
            " 18  303_gas_bill                              115 non-null    object \n",
            " 19  307_gas_bill_store                        112 non-null    object \n",
            " 20  286_topups                                115 non-null    object \n",
            " 21  308_topups_in_store                       103 non-null    object \n",
            " 22  287_wire_transfers                        115 non-null    object \n",
            " 23  309_wiretransfers_in_store                113 non-null    object \n",
            " 24  320_other_services_in_store               115 non-null    object \n",
            " 25  304_additional_services_store             29 non-null     object \n",
            " 26  81_number_online_purchases_month          115 non-null    int64  \n",
            " 27  288_number_app_purchases_month            115 non-null    int64  \n",
            " 28  289_number_whatsapp_purchases_month       115 non-null    int64  \n",
            " 29  83_willingness_ultrafast_delivery         115 non-null    int64  \n",
            " 30  84_willingness_sameday_delivery           115 non-null    int64  \n",
            " 31  241_age_of_the_interviewee                115 non-null    int64  \n",
            " 32  240_gender_interviewee                    115 non-null    object \n",
            " 33  indicate_the_type_of_store                115 non-null    object \n",
            " 34  name_of_the_store                         115 non-null    object \n",
            " 35  storefront_picture_just_once_if_possible  104 non-null    object \n",
            "dtypes: float64(2), int64(7), object(27)\n",
            "memory usage: 32.5+ KB\n"
          ]
        }
      ]
    },
    {
      "cell_type": "code",
      "source": [
        "#Identificar valores nulos por columna\n",
        "Valore_nulos=consumer_mit_lift_lab.isnull().sum()\n",
        "Valore_nulos"
      ],
      "metadata": {
        "id": "JHy3UIHxAqK6"
      },
      "execution_count": null,
      "outputs": []
    },
    {
      "cell_type": "code",
      "source": [
        "data=consumer_mit_lift_lab\n",
        "data"
      ],
      "metadata": {
        "id": "qbyvxMYzAVWn"
      },
      "execution_count": null,
      "outputs": []
    },
    {
      "cell_type": "code",
      "source": [
        "#Sustituir valores nulos por valores no nulos hacia adelante \"forward fill\"(\"ffill\")\n",
        "#Filtro por columnas\n",
        "data[\"300_did_not_find\"] =data[\"300_did_not_find\"].fillna(0)\n",
        "data"
      ],
      "metadata": {
        "id": "flu4TkKUEHAw"
      },
      "execution_count": null,
      "outputs": []
    },
    {
      "cell_type": "code",
      "source": [
        "#Identificar valores nulos por columna\n",
        "Valore_nulos=data.isnull().sum()\n",
        "Valore_nulos"
      ],
      "metadata": {
        "id": "YDohqcDJDmSy"
      },
      "execution_count": null,
      "outputs": []
    },
    {
      "cell_type": "code",
      "source": [
        "\n",
        "#Filtro por columnas\n",
        "data[\"284_additional_products_store\"] =data[\"284_additional_products_store\"].fillna(0)\n",
        "data"
      ],
      "metadata": {
        "id": "Pe2zdiLyEO-U"
      },
      "execution_count": null,
      "outputs": []
    },
    {
      "cell_type": "code",
      "source": [
        "#Identificar valores nulos por columna\n",
        "Valore_nulos=data.isnull().sum()\n",
        "Valore_nulos"
      ],
      "metadata": {
        "colab": {
          "base_uri": "https://localhost:8080/"
        },
        "id": "K32BjxdtEejT",
        "outputId": "75dac289-5d43-44a9-e47a-c7e2b4b71d7c"
      },
      "execution_count": null,
      "outputs": [
        {
          "output_type": "execute_result",
          "data": {
            "text/plain": [
              "_record_id                                   0\n",
              "_title                                       0\n",
              "_server_updated_at                           0\n",
              "_updated_by                                  0\n",
              "_geometry                                    0\n",
              "_latitude                                    0\n",
              "_longitude                                   0\n",
              "282_payment_method_that_purchase             0\n",
              "283_fulfill_needs                            0\n",
              "300_did_not_find                             0\n",
              "237_distance_household_interviewee           0\n",
              "299_means_transportation_consumer            0\n",
              "238_frequency_buying_store                   0\n",
              "284_additional_products_store                0\n",
              "301_electricity_bill                         0\n",
              "305_electricity_bill_store                   7\n",
              "302_water_bill                               0\n",
              "306_water_bill_store                         4\n",
              "303_gas_bill                                 0\n",
              "307_gas_bill_store                           3\n",
              "286_topups                                   0\n",
              "308_topups_in_store                         12\n",
              "287_wire_transfers                           0\n",
              "309_wiretransfers_in_store                   2\n",
              "320_other_services_in_store                  0\n",
              "304_additional_services_store               86\n",
              "81_number_online_purchases_month             0\n",
              "288_number_app_purchases_month               0\n",
              "289_number_whatsapp_purchases_month          0\n",
              "83_willingness_ultrafast_delivery            0\n",
              "84_willingness_sameday_delivery              0\n",
              "241_age_of_the_interviewee                   0\n",
              "240_gender_interviewee                       0\n",
              "indicate_the_type_of_store                   0\n",
              "name_of_the_store                            0\n",
              "storefront_picture_just_once_if_possible    11\n",
              "284_additional_products_stored               0\n",
              "dtype: int64"
            ]
          },
          "metadata": {},
          "execution_count": 55
        }
      ]
    },
    {
      "cell_type": "code",
      "source": [
        "#Filtro por columnas\n",
        "data[\"305_electricity_bill_store\"] =data[\"305_electricity_bill_store\"].fillna(0)\n",
        "data"
      ],
      "metadata": {
        "id": "MRLHVtzbN8DJ"
      },
      "execution_count": null,
      "outputs": []
    },
    {
      "cell_type": "code",
      "source": [
        "#Identificar valores nulos por columna\n",
        "Valore_nulos=data.isnull().sum()\n",
        "Valore_nulos"
      ],
      "metadata": {
        "id": "x_Q900F5OCB9"
      },
      "execution_count": null,
      "outputs": []
    },
    {
      "cell_type": "code",
      "source": [
        "#Filtro por columnas\n",
        "data[\"306_water_bill_store\"] =data[\"306_water_bill_store\"].fillna(0)\n",
        "data"
      ],
      "metadata": {
        "id": "5nVD4DDeOFzm"
      },
      "execution_count": null,
      "outputs": []
    },
    {
      "cell_type": "code",
      "source": [
        "#Identificar valores nulos por columna\n",
        "Valore_nulos=data.isnull().sum()\n",
        "Valore_nulos"
      ],
      "metadata": {
        "id": "nx1qeUCAOMbd"
      },
      "execution_count": null,
      "outputs": []
    },
    {
      "cell_type": "code",
      "source": [
        "#Filtro por columnas\n",
        "data[\"307_gas_bill_store\"] =data[\"306_water_bill_store\"].fillna(0)\n",
        "data"
      ],
      "metadata": {
        "id": "9yTel8eOORK1"
      },
      "execution_count": null,
      "outputs": []
    },
    {
      "cell_type": "code",
      "source": [
        "#Identificar valores nulos por columna\n",
        "Valore_nulos=data.isnull().sum()\n",
        "Valore_nulos"
      ],
      "metadata": {
        "colab": {
          "base_uri": "https://localhost:8080/"
        },
        "id": "Ag62vc1-Oqlz",
        "outputId": "5b3a976c-7502-4823-fba6-7ce8e0424306"
      },
      "execution_count": null,
      "outputs": [
        {
          "output_type": "execute_result",
          "data": {
            "text/plain": [
              "_record_id                                   0\n",
              "_title                                       0\n",
              "_server_updated_at                           0\n",
              "_updated_by                                  0\n",
              "_geometry                                    0\n",
              "_latitude                                    0\n",
              "_longitude                                   0\n",
              "282_payment_method_that_purchase             0\n",
              "283_fulfill_needs                            0\n",
              "300_did_not_find                             0\n",
              "237_distance_household_interviewee           0\n",
              "299_means_transportation_consumer            0\n",
              "238_frequency_buying_store                   0\n",
              "284_additional_products_store                0\n",
              "301_electricity_bill                         0\n",
              "305_electricity_bill_store                   0\n",
              "302_water_bill                               0\n",
              "306_water_bill_store                         0\n",
              "303_gas_bill                                 0\n",
              "307_gas_bill_store                           0\n",
              "286_topups                                   0\n",
              "308_topups_in_store                         12\n",
              "287_wire_transfers                           0\n",
              "309_wiretransfers_in_store                   2\n",
              "320_other_services_in_store                  0\n",
              "304_additional_services_store               86\n",
              "81_number_online_purchases_month             0\n",
              "288_number_app_purchases_month               0\n",
              "289_number_whatsapp_purchases_month          0\n",
              "83_willingness_ultrafast_delivery            0\n",
              "84_willingness_sameday_delivery              0\n",
              "241_age_of_the_interviewee                   0\n",
              "240_gender_interviewee                       0\n",
              "indicate_the_type_of_store                   0\n",
              "name_of_the_store                            0\n",
              "storefront_picture_just_once_if_possible    11\n",
              "284_additional_products_stored               0\n",
              "dtype: int64"
            ]
          },
          "metadata": {},
          "execution_count": 75
        }
      ]
    },
    {
      "cell_type": "code",
      "source": [
        "#Filtro por columnas\n",
        "data[\"308_topups_in_store\"] =data[\"308_topups_in_store\"].fillna(0)\n",
        "data"
      ],
      "metadata": {
        "id": "pNMgaSHZPEbn"
      },
      "execution_count": null,
      "outputs": []
    },
    {
      "cell_type": "code",
      "source": [
        "#Identificar valores nulos por columna\n",
        "Valore_nulos=data.isnull().sum()\n",
        "Valore_nulos"
      ],
      "metadata": {
        "colab": {
          "base_uri": "https://localhost:8080/"
        },
        "id": "pRizPgCuPMJ_",
        "outputId": "9b3a3ecd-93b0-4923-e3a7-5045fa73031f"
      },
      "execution_count": null,
      "outputs": [
        {
          "output_type": "execute_result",
          "data": {
            "text/plain": [
              "_record_id                                   0\n",
              "_title                                       0\n",
              "_server_updated_at                           0\n",
              "_updated_by                                  0\n",
              "_geometry                                    0\n",
              "_latitude                                    0\n",
              "_longitude                                   0\n",
              "282_payment_method_that_purchase             0\n",
              "283_fulfill_needs                            0\n",
              "300_did_not_find                             0\n",
              "237_distance_household_interviewee           0\n",
              "299_means_transportation_consumer            0\n",
              "238_frequency_buying_store                   0\n",
              "284_additional_products_store                0\n",
              "301_electricity_bill                         0\n",
              "305_electricity_bill_store                   0\n",
              "302_water_bill                               0\n",
              "306_water_bill_store                         0\n",
              "303_gas_bill                                 0\n",
              "307_gas_bill_store                           0\n",
              "286_topups                                   0\n",
              "308_topups_in_store                          0\n",
              "287_wire_transfers                           0\n",
              "309_wiretransfers_in_store                   2\n",
              "320_other_services_in_store                  0\n",
              "304_additional_services_store               86\n",
              "81_number_online_purchases_month             0\n",
              "288_number_app_purchases_month               0\n",
              "289_number_whatsapp_purchases_month          0\n",
              "83_willingness_ultrafast_delivery            0\n",
              "84_willingness_sameday_delivery              0\n",
              "241_age_of_the_interviewee                   0\n",
              "240_gender_interviewee                       0\n",
              "indicate_the_type_of_store                   0\n",
              "name_of_the_store                            0\n",
              "storefront_picture_just_once_if_possible    11\n",
              "284_additional_products_stored               0\n",
              "dtype: int64"
            ]
          },
          "metadata": {},
          "execution_count": 80
        }
      ]
    },
    {
      "cell_type": "code",
      "source": [
        "#Filtro por columnas\n",
        "data[\"309_wiretransfers_in_store\"] =data[\"309_wiretransfers_in_store\"].fillna(0)\n",
        "data"
      ],
      "metadata": {
        "id": "zYpLlB79PPZA"
      },
      "execution_count": null,
      "outputs": []
    },
    {
      "cell_type": "code",
      "source": [
        "#Identificar valores nulos por columna\n",
        "Valore_nulos=data.isnull().sum()\n",
        "Valore_nulos"
      ],
      "metadata": {
        "colab": {
          "base_uri": "https://localhost:8080/"
        },
        "id": "Mlqdu04HPZk2",
        "outputId": "86021f92-bb3b-4d01-d803-2ae0e54840b8"
      },
      "execution_count": null,
      "outputs": [
        {
          "output_type": "execute_result",
          "data": {
            "text/plain": [
              "_record_id                                   0\n",
              "_title                                       0\n",
              "_server_updated_at                           0\n",
              "_updated_by                                  0\n",
              "_geometry                                    0\n",
              "_latitude                                    0\n",
              "_longitude                                   0\n",
              "282_payment_method_that_purchase             0\n",
              "283_fulfill_needs                            0\n",
              "300_did_not_find                             0\n",
              "237_distance_household_interviewee           0\n",
              "299_means_transportation_consumer            0\n",
              "238_frequency_buying_store                   0\n",
              "284_additional_products_store                0\n",
              "301_electricity_bill                         0\n",
              "305_electricity_bill_store                   0\n",
              "302_water_bill                               0\n",
              "306_water_bill_store                         0\n",
              "303_gas_bill                                 0\n",
              "307_gas_bill_store                           0\n",
              "286_topups                                   0\n",
              "308_topups_in_store                          0\n",
              "287_wire_transfers                           0\n",
              "309_wiretransfers_in_store                   0\n",
              "320_other_services_in_store                  0\n",
              "304_additional_services_store               86\n",
              "81_number_online_purchases_month             0\n",
              "288_number_app_purchases_month               0\n",
              "289_number_whatsapp_purchases_month          0\n",
              "83_willingness_ultrafast_delivery            0\n",
              "84_willingness_sameday_delivery              0\n",
              "241_age_of_the_interviewee                   0\n",
              "240_gender_interviewee                       0\n",
              "indicate_the_type_of_store                   0\n",
              "name_of_the_store                            0\n",
              "storefront_picture_just_once_if_possible    11\n",
              "284_additional_products_stored               0\n",
              "dtype: int64"
            ]
          },
          "metadata": {},
          "execution_count": 82
        }
      ]
    },
    {
      "cell_type": "code",
      "source": [
        "#Filtro por columnas\n",
        "data[\"304_additional_services_store\"] =data[\"304_additional_services_store\"].fillna(0)\n",
        "data"
      ],
      "metadata": {
        "id": "bMIvG85zPdnt"
      },
      "execution_count": null,
      "outputs": []
    },
    {
      "cell_type": "code",
      "source": [
        "#Identificar valores nulos por columna\n",
        "Valore_nulos=data.isnull().sum()\n",
        "Valore_nulos"
      ],
      "metadata": {
        "colab": {
          "base_uri": "https://localhost:8080/"
        },
        "id": "W3t-i7nmPrkx",
        "outputId": "f63d986e-ddc7-4481-85fd-5fbeeb2df16d"
      },
      "execution_count": null,
      "outputs": [
        {
          "output_type": "execute_result",
          "data": {
            "text/plain": [
              "_record_id                                   0\n",
              "_title                                       0\n",
              "_server_updated_at                           0\n",
              "_updated_by                                  0\n",
              "_geometry                                    0\n",
              "_latitude                                    0\n",
              "_longitude                                   0\n",
              "282_payment_method_that_purchase             0\n",
              "283_fulfill_needs                            0\n",
              "300_did_not_find                             0\n",
              "237_distance_household_interviewee           0\n",
              "299_means_transportation_consumer            0\n",
              "238_frequency_buying_store                   0\n",
              "284_additional_products_store                0\n",
              "301_electricity_bill                         0\n",
              "305_electricity_bill_store                   0\n",
              "302_water_bill                               0\n",
              "306_water_bill_store                         0\n",
              "303_gas_bill                                 0\n",
              "307_gas_bill_store                           0\n",
              "286_topups                                   0\n",
              "308_topups_in_store                          0\n",
              "287_wire_transfers                           0\n",
              "309_wiretransfers_in_store                   0\n",
              "320_other_services_in_store                  0\n",
              "304_additional_services_store                0\n",
              "81_number_online_purchases_month             0\n",
              "288_number_app_purchases_month               0\n",
              "289_number_whatsapp_purchases_month          0\n",
              "83_willingness_ultrafast_delivery            0\n",
              "84_willingness_sameday_delivery              0\n",
              "241_age_of_the_interviewee                   0\n",
              "240_gender_interviewee                       0\n",
              "indicate_the_type_of_store                   0\n",
              "name_of_the_store                            0\n",
              "storefront_picture_just_once_if_possible    11\n",
              "284_additional_products_stored               0\n",
              "dtype: int64"
            ]
          },
          "metadata": {},
          "execution_count": 84
        }
      ]
    },
    {
      "cell_type": "code",
      "source": [
        "#Filtro por columnas\n",
        "data[\"storefront_picture_just_once_if_possible\"] =data[\"storefront_picture_just_once_if_possible\"].fillna(0)\n",
        "data"
      ],
      "metadata": {
        "id": "7LMyL3vOPuRF"
      },
      "execution_count": null,
      "outputs": []
    },
    {
      "cell_type": "code",
      "source": [
        "#Identificar valores nulos por columna\n",
        "Valore_nulos=data.isnull().sum()\n",
        "Valore_nulos"
      ],
      "metadata": {
        "id": "PTMiTjdnP0l_"
      },
      "execution_count": null,
      "outputs": []
    },
    {
      "cell_type": "code",
      "source": [
        "#Identificar valores nulos por columna\n",
        "Valore_nulos=data.isnull().sum()\n",
        "Valore_nulos"
      ],
      "metadata": {
        "colab": {
          "base_uri": "https://localhost:8080/"
        },
        "id": "RFql3Z6aQS28",
        "outputId": "3a3793f5-d269-4434-dd5e-ea804d226194"
      },
      "execution_count": null,
      "outputs": [
        {
          "output_type": "execute_result",
          "data": {
            "text/plain": [
              "_record_id                                  0\n",
              "_title                                      0\n",
              "_server_updated_at                          0\n",
              "_updated_by                                 0\n",
              "_geometry                                   0\n",
              "_latitude                                   0\n",
              "_longitude                                  0\n",
              "282_payment_method_that_purchase            0\n",
              "283_fulfill_needs                           0\n",
              "300_did_not_find                            0\n",
              "237_distance_household_interviewee          0\n",
              "299_means_transportation_consumer           0\n",
              "238_frequency_buying_store                  0\n",
              "284_additional_products_store               0\n",
              "301_electricity_bill                        0\n",
              "305_electricity_bill_store                  0\n",
              "302_water_bill                              0\n",
              "306_water_bill_store                        0\n",
              "303_gas_bill                                0\n",
              "307_gas_bill_store                          0\n",
              "286_topups                                  0\n",
              "308_topups_in_store                         0\n",
              "287_wire_transfers                          0\n",
              "309_wiretransfers_in_store                  0\n",
              "320_other_services_in_store                 0\n",
              "304_additional_services_store               0\n",
              "81_number_online_purchases_month            0\n",
              "288_number_app_purchases_month              0\n",
              "289_number_whatsapp_purchases_month         0\n",
              "83_willingness_ultrafast_delivery           0\n",
              "84_willingness_sameday_delivery             0\n",
              "241_age_of_the_interviewee                  0\n",
              "240_gender_interviewee                      0\n",
              "indicate_the_type_of_store                  0\n",
              "name_of_the_store                           0\n",
              "storefront_picture_just_once_if_possible    0\n",
              "284_additional_products_stored              0\n",
              "dtype: int64"
            ]
          },
          "metadata": {},
          "execution_count": 89
        }
      ]
    },
    {
      "cell_type": "code",
      "source": [
        "cuantitativas=data.iloc[:,[5,6,12,26,27,28,29,30,31]]\n"
      ],
      "metadata": {
        "id": "ZNcardpPTSMe"
      },
      "execution_count": null,
      "outputs": []
    },
    {
      "cell_type": "code",
      "source": [
        "cualitativas=data.iloc[:,[0,1,2,3,4,7,8,9,10,11,13,14,15,16,17,18,19,20,21,22,23,24,25,32,33,34,35,36]]"
      ],
      "metadata": {
        "id": "3qdkHj6ZTtwt"
      },
      "execution_count": null,
      "outputs": []
    },
    {
      "cell_type": "code",
      "source": [
        "y=data \n",
        "Limite_Superior= y.mean() + 3*y.std()\n",
        "Limite_Inferior= y.mean() - 3*y.std()\n",
        "print(\"Limite superior permitido\",Limite_Superior)\n",
        "print(\"Limite inferiro permitido\",Limite_Inferior)"
      ],
      "metadata": {
        "id": "miE6srdjVPZ2"
      },
      "execution_count": null,
      "outputs": []
    },
    {
      "cell_type": "code",
      "source": [
        "#Encontramos Outliers\n",
        "outliers= data[(y>Limite_Superior)| (y<Limite_Inferior)]\n",
        "outliers"
      ],
      "metadata": {
        "id": "l7bMSOcjQZQ1"
      },
      "execution_count": null,
      "outputs": []
    },
    {
      "cell_type": "code",
      "source": [
        "#Convertimos outliers en nulos\n",
        "datafiltro=cuantitativas[(y<=Limite_Superior)&(y>=Limite_Inferior)]\n",
        "datafiltro"
      ],
      "metadata": {
        "colab": {
          "base_uri": "https://localhost:8080/",
          "height": 522
        },
        "id": "ZH8gXstaYGrA",
        "outputId": "c1868815-8427-4a4c-bcf1-02fbff159a38"
      },
      "execution_count": null,
      "outputs": [
        {
          "output_type": "stream",
          "name": "stderr",
          "text": [
            "/usr/local/lib/python3.7/dist-packages/ipykernel_launcher.py:2: FutureWarning: Automatic reindexing on DataFrame vs Series comparisons is deprecated and will raise ValueError in a future version.  Do `left, right = left.align(right, axis=1, copy=False)` before e.g. `left == right`\n",
            "  \n"
          ]
        },
        {
          "output_type": "execute_result",
          "data": {
            "text/plain": [
              "     _latitude  _longitude  238_frequency_buying_store  \\\n",
              "0    19.059841  -98.234980                         1.0   \n",
              "1    19.058479  -98.233566                         1.0   \n",
              "2    19.062077  -98.230339                         1.0   \n",
              "3    19.055535  -98.232916                         1.0   \n",
              "4    19.059012  -98.232994                         1.0   \n",
              "..         ...         ...                         ...   \n",
              "110  19.035224  -98.267100                         1.0   \n",
              "111  19.035280  -98.267856                         1.0   \n",
              "112  19.035451  -98.267862                         1.0   \n",
              "113  19.035486  -98.267831                         1.0   \n",
              "114  19.035399  -98.267924                         1.0   \n",
              "\n",
              "     81_number_online_purchases_month  288_number_app_purchases_month  \\\n",
              "0                                 1.0                             0.0   \n",
              "1                                 1.0                             2.0   \n",
              "2                                 0.0                             0.0   \n",
              "3                                 2.0                             3.0   \n",
              "4                                 2.0                             5.0   \n",
              "..                                ...                             ...   \n",
              "110                               NaN                            10.0   \n",
              "111                               1.0                             1.0   \n",
              "112                               3.0                             2.0   \n",
              "113                               2.0                             4.0   \n",
              "114                               0.0                             3.0   \n",
              "\n",
              "     289_number_whatsapp_purchases_month  83_willingness_ultrafast_delivery  \\\n",
              "0                                    0.0                                0.0   \n",
              "1                                    0.0                               35.0   \n",
              "2                                    0.0                               40.0   \n",
              "3                                    0.0                                0.0   \n",
              "4                                    0.0                                0.0   \n",
              "..                                   ...                                ...   \n",
              "110                                  0.0                              100.0   \n",
              "111                                  0.0                               50.0   \n",
              "112                                  0.0                                0.0   \n",
              "113                                  0.0                               30.0   \n",
              "114                                  0.0                              150.0   \n",
              "\n",
              "     84_willingness_sameday_delivery  241_age_of_the_interviewee  \n",
              "0                                0.0                        35.0  \n",
              "1                               50.0                        27.0  \n",
              "2                               25.0                        42.0  \n",
              "3                                0.0                        27.0  \n",
              "4                               50.0                        35.0  \n",
              "..                               ...                         ...  \n",
              "110                            100.0                        15.0  \n",
              "111                             70.0                        21.0  \n",
              "112                              0.0                        18.0  \n",
              "113                            100.0                        18.0  \n",
              "114                              NaN                        18.0  \n",
              "\n",
              "[115 rows x 9 columns]"
            ],
            "text/html": [
              "\n",
              "  <div id=\"df-0bf1c26d-e2fa-46cf-910b-f13e07a8c7a6\">\n",
              "    <div class=\"colab-df-container\">\n",
              "      <div>\n",
              "<style scoped>\n",
              "    .dataframe tbody tr th:only-of-type {\n",
              "        vertical-align: middle;\n",
              "    }\n",
              "\n",
              "    .dataframe tbody tr th {\n",
              "        vertical-align: top;\n",
              "    }\n",
              "\n",
              "    .dataframe thead th {\n",
              "        text-align: right;\n",
              "    }\n",
              "</style>\n",
              "<table border=\"1\" class=\"dataframe\">\n",
              "  <thead>\n",
              "    <tr style=\"text-align: right;\">\n",
              "      <th></th>\n",
              "      <th>_latitude</th>\n",
              "      <th>_longitude</th>\n",
              "      <th>238_frequency_buying_store</th>\n",
              "      <th>81_number_online_purchases_month</th>\n",
              "      <th>288_number_app_purchases_month</th>\n",
              "      <th>289_number_whatsapp_purchases_month</th>\n",
              "      <th>83_willingness_ultrafast_delivery</th>\n",
              "      <th>84_willingness_sameday_delivery</th>\n",
              "      <th>241_age_of_the_interviewee</th>\n",
              "    </tr>\n",
              "  </thead>\n",
              "  <tbody>\n",
              "    <tr>\n",
              "      <th>0</th>\n",
              "      <td>19.059841</td>\n",
              "      <td>-98.234980</td>\n",
              "      <td>1.0</td>\n",
              "      <td>1.0</td>\n",
              "      <td>0.0</td>\n",
              "      <td>0.0</td>\n",
              "      <td>0.0</td>\n",
              "      <td>0.0</td>\n",
              "      <td>35.0</td>\n",
              "    </tr>\n",
              "    <tr>\n",
              "      <th>1</th>\n",
              "      <td>19.058479</td>\n",
              "      <td>-98.233566</td>\n",
              "      <td>1.0</td>\n",
              "      <td>1.0</td>\n",
              "      <td>2.0</td>\n",
              "      <td>0.0</td>\n",
              "      <td>35.0</td>\n",
              "      <td>50.0</td>\n",
              "      <td>27.0</td>\n",
              "    </tr>\n",
              "    <tr>\n",
              "      <th>2</th>\n",
              "      <td>19.062077</td>\n",
              "      <td>-98.230339</td>\n",
              "      <td>1.0</td>\n",
              "      <td>0.0</td>\n",
              "      <td>0.0</td>\n",
              "      <td>0.0</td>\n",
              "      <td>40.0</td>\n",
              "      <td>25.0</td>\n",
              "      <td>42.0</td>\n",
              "    </tr>\n",
              "    <tr>\n",
              "      <th>3</th>\n",
              "      <td>19.055535</td>\n",
              "      <td>-98.232916</td>\n",
              "      <td>1.0</td>\n",
              "      <td>2.0</td>\n",
              "      <td>3.0</td>\n",
              "      <td>0.0</td>\n",
              "      <td>0.0</td>\n",
              "      <td>0.0</td>\n",
              "      <td>27.0</td>\n",
              "    </tr>\n",
              "    <tr>\n",
              "      <th>4</th>\n",
              "      <td>19.059012</td>\n",
              "      <td>-98.232994</td>\n",
              "      <td>1.0</td>\n",
              "      <td>2.0</td>\n",
              "      <td>5.0</td>\n",
              "      <td>0.0</td>\n",
              "      <td>0.0</td>\n",
              "      <td>50.0</td>\n",
              "      <td>35.0</td>\n",
              "    </tr>\n",
              "    <tr>\n",
              "      <th>...</th>\n",
              "      <td>...</td>\n",
              "      <td>...</td>\n",
              "      <td>...</td>\n",
              "      <td>...</td>\n",
              "      <td>...</td>\n",
              "      <td>...</td>\n",
              "      <td>...</td>\n",
              "      <td>...</td>\n",
              "      <td>...</td>\n",
              "    </tr>\n",
              "    <tr>\n",
              "      <th>110</th>\n",
              "      <td>19.035224</td>\n",
              "      <td>-98.267100</td>\n",
              "      <td>1.0</td>\n",
              "      <td>NaN</td>\n",
              "      <td>10.0</td>\n",
              "      <td>0.0</td>\n",
              "      <td>100.0</td>\n",
              "      <td>100.0</td>\n",
              "      <td>15.0</td>\n",
              "    </tr>\n",
              "    <tr>\n",
              "      <th>111</th>\n",
              "      <td>19.035280</td>\n",
              "      <td>-98.267856</td>\n",
              "      <td>1.0</td>\n",
              "      <td>1.0</td>\n",
              "      <td>1.0</td>\n",
              "      <td>0.0</td>\n",
              "      <td>50.0</td>\n",
              "      <td>70.0</td>\n",
              "      <td>21.0</td>\n",
              "    </tr>\n",
              "    <tr>\n",
              "      <th>112</th>\n",
              "      <td>19.035451</td>\n",
              "      <td>-98.267862</td>\n",
              "      <td>1.0</td>\n",
              "      <td>3.0</td>\n",
              "      <td>2.0</td>\n",
              "      <td>0.0</td>\n",
              "      <td>0.0</td>\n",
              "      <td>0.0</td>\n",
              "      <td>18.0</td>\n",
              "    </tr>\n",
              "    <tr>\n",
              "      <th>113</th>\n",
              "      <td>19.035486</td>\n",
              "      <td>-98.267831</td>\n",
              "      <td>1.0</td>\n",
              "      <td>2.0</td>\n",
              "      <td>4.0</td>\n",
              "      <td>0.0</td>\n",
              "      <td>30.0</td>\n",
              "      <td>100.0</td>\n",
              "      <td>18.0</td>\n",
              "    </tr>\n",
              "    <tr>\n",
              "      <th>114</th>\n",
              "      <td>19.035399</td>\n",
              "      <td>-98.267924</td>\n",
              "      <td>1.0</td>\n",
              "      <td>0.0</td>\n",
              "      <td>3.0</td>\n",
              "      <td>0.0</td>\n",
              "      <td>150.0</td>\n",
              "      <td>NaN</td>\n",
              "      <td>18.0</td>\n",
              "    </tr>\n",
              "  </tbody>\n",
              "</table>\n",
              "<p>115 rows × 9 columns</p>\n",
              "</div>\n",
              "      <button class=\"colab-df-convert\" onclick=\"convertToInteractive('df-0bf1c26d-e2fa-46cf-910b-f13e07a8c7a6')\"\n",
              "              title=\"Convert this dataframe to an interactive table.\"\n",
              "              style=\"display:none;\">\n",
              "        \n",
              "  <svg xmlns=\"http://www.w3.org/2000/svg\" height=\"24px\"viewBox=\"0 0 24 24\"\n",
              "       width=\"24px\">\n",
              "    <path d=\"M0 0h24v24H0V0z\" fill=\"none\"/>\n",
              "    <path d=\"M18.56 5.44l.94 2.06.94-2.06 2.06-.94-2.06-.94-.94-2.06-.94 2.06-2.06.94zm-11 1L8.5 8.5l.94-2.06 2.06-.94-2.06-.94L8.5 2.5l-.94 2.06-2.06.94zm10 10l.94 2.06.94-2.06 2.06-.94-2.06-.94-.94-2.06-.94 2.06-2.06.94z\"/><path d=\"M17.41 7.96l-1.37-1.37c-.4-.4-.92-.59-1.43-.59-.52 0-1.04.2-1.43.59L10.3 9.45l-7.72 7.72c-.78.78-.78 2.05 0 2.83L4 21.41c.39.39.9.59 1.41.59.51 0 1.02-.2 1.41-.59l7.78-7.78 2.81-2.81c.8-.78.8-2.07 0-2.86zM5.41 20L4 18.59l7.72-7.72 1.47 1.35L5.41 20z\"/>\n",
              "  </svg>\n",
              "      </button>\n",
              "      \n",
              "  <style>\n",
              "    .colab-df-container {\n",
              "      display:flex;\n",
              "      flex-wrap:wrap;\n",
              "      gap: 12px;\n",
              "    }\n",
              "\n",
              "    .colab-df-convert {\n",
              "      background-color: #E8F0FE;\n",
              "      border: none;\n",
              "      border-radius: 50%;\n",
              "      cursor: pointer;\n",
              "      display: none;\n",
              "      fill: #1967D2;\n",
              "      height: 32px;\n",
              "      padding: 0 0 0 0;\n",
              "      width: 32px;\n",
              "    }\n",
              "\n",
              "    .colab-df-convert:hover {\n",
              "      background-color: #E2EBFA;\n",
              "      box-shadow: 0px 1px 2px rgba(60, 64, 67, 0.3), 0px 1px 3px 1px rgba(60, 64, 67, 0.15);\n",
              "      fill: #174EA6;\n",
              "    }\n",
              "\n",
              "    [theme=dark] .colab-df-convert {\n",
              "      background-color: #3B4455;\n",
              "      fill: #D2E3FC;\n",
              "    }\n",
              "\n",
              "    [theme=dark] .colab-df-convert:hover {\n",
              "      background-color: #434B5C;\n",
              "      box-shadow: 0px 1px 3px 1px rgba(0, 0, 0, 0.15);\n",
              "      filter: drop-shadow(0px 1px 2px rgba(0, 0, 0, 0.3));\n",
              "      fill: #FFFFFF;\n",
              "    }\n",
              "  </style>\n",
              "\n",
              "      <script>\n",
              "        const buttonEl =\n",
              "          document.querySelector('#df-0bf1c26d-e2fa-46cf-910b-f13e07a8c7a6 button.colab-df-convert');\n",
              "        buttonEl.style.display =\n",
              "          google.colab.kernel.accessAllowed ? 'block' : 'none';\n",
              "\n",
              "        async function convertToInteractive(key) {\n",
              "          const element = document.querySelector('#df-0bf1c26d-e2fa-46cf-910b-f13e07a8c7a6');\n",
              "          const dataTable =\n",
              "            await google.colab.kernel.invokeFunction('convertToInteractive',\n",
              "                                                     [key], {});\n",
              "          if (!dataTable) return;\n",
              "\n",
              "          const docLinkHtml = 'Like what you see? Visit the ' +\n",
              "            '<a target=\"_blank\" href=https://colab.research.google.com/notebooks/data_table.ipynb>data table notebook</a>'\n",
              "            + ' to learn more about interactive tables.';\n",
              "          element.innerHTML = '';\n",
              "          dataTable['output_type'] = 'display_data';\n",
              "          await google.colab.output.renderOutput(dataTable, element);\n",
              "          const docLink = document.createElement('div');\n",
              "          docLink.innerHTML = docLinkHtml;\n",
              "          element.appendChild(docLink);\n",
              "        }\n",
              "      </script>\n",
              "    </div>\n",
              "  </div>\n",
              "  "
            ]
          },
          "metadata": {},
          "execution_count": 115
        }
      ]
    },
    {
      "cell_type": "code",
      "source": [
        "\n",
        "#Sustituir valores nulos por valores no nulos hacia adelante \"forward fill\"(\"ffill\")\n",
        "#Filtro por columnas\n",
        "datafiltro[\"_latitude\"] =datafiltro[\"_latitude\"].fillna(method=\"ffill\")\n",
        "datafiltro"
      ],
      "metadata": {
        "id": "NCO50SgPab5n"
      },
      "execution_count": null,
      "outputs": []
    },
    {
      "cell_type": "code",
      "source": [
        "#Identificar valores nulos por columna\n",
        "Valore_nulos=datafiltro.isnull().sum()\n",
        "Valore_nulos"
      ],
      "metadata": {
        "colab": {
          "base_uri": "https://localhost:8080/"
        },
        "id": "8Ec3wva5apj4",
        "outputId": "1794ff1d-a633-41b3-a02d-29906683f34a"
      },
      "execution_count": null,
      "outputs": [
        {
          "output_type": "execute_result",
          "data": {
            "text/plain": [
              "_latitude                              0\n",
              "_longitude                             0\n",
              "238_frequency_buying_store             2\n",
              "81_number_online_purchases_month       2\n",
              "288_number_app_purchases_month         1\n",
              "289_number_whatsapp_purchases_month    1\n",
              "83_willingness_ultrafast_delivery      2\n",
              "84_willingness_sameday_delivery        2\n",
              "241_age_of_the_interviewee             1\n",
              "dtype: int64"
            ]
          },
          "metadata": {},
          "execution_count": 117
        }
      ]
    },
    {
      "cell_type": "code",
      "source": [
        "#Sustituir valores nulos por valores no nulos hacia adelante \"forward fill\"(\"ffill\")\n",
        "#Filtro por columnas\n",
        "datafiltro[\"238_frequency_buying_store\"] =datafiltro[\"238_frequency_buying_store\"].fillna(method=\"ffill\")\n",
        "datafiltro"
      ],
      "metadata": {
        "id": "1FlN4p3AaviG"
      },
      "execution_count": null,
      "outputs": []
    },
    {
      "cell_type": "code",
      "source": [
        "#Identificar valores nulos por columna\n",
        "Valore_nulos=datafiltro.isnull().sum()\n",
        "Valore_nulos"
      ],
      "metadata": {
        "colab": {
          "base_uri": "https://localhost:8080/"
        },
        "id": "WAwIqGBha2lV",
        "outputId": "dc11eaef-4115-41b1-8592-89ac5bd5b138"
      },
      "execution_count": null,
      "outputs": [
        {
          "output_type": "execute_result",
          "data": {
            "text/plain": [
              "_latitude                              0\n",
              "_longitude                             0\n",
              "238_frequency_buying_store             0\n",
              "81_number_online_purchases_month       2\n",
              "288_number_app_purchases_month         1\n",
              "289_number_whatsapp_purchases_month    1\n",
              "83_willingness_ultrafast_delivery      2\n",
              "84_willingness_sameday_delivery        2\n",
              "241_age_of_the_interviewee             1\n",
              "dtype: int64"
            ]
          },
          "metadata": {},
          "execution_count": 121
        }
      ]
    },
    {
      "cell_type": "code",
      "source": [
        "#Sustituir valores nulos por valores no nulos hacia adelante \"forward fill\"(\"ffill\")\n",
        "#Filtro por columnas\n",
        "datafiltro[\"238_frequency_buying_store\"] =datafiltro[\"238_frequency_buying_store\"].fillna(method=\"ffill\")\n",
        "datafiltro"
      ],
      "metadata": {
        "id": "O6sLSzSQbDFU"
      },
      "execution_count": null,
      "outputs": []
    },
    {
      "cell_type": "code",
      "source": [
        "#Identificar valores nulos por columna\n",
        "Valore_nulos=datafiltro.isnull().sum()\n",
        "Valore_nulos"
      ],
      "metadata": {
        "id": "eAdzaY_pbPiC"
      },
      "execution_count": null,
      "outputs": []
    },
    {
      "cell_type": "code",
      "source": [
        "#Sustituir valores nulos por valores no nulos hacia adelante \"forward fill\"(\"ffill\")\n",
        "#Filtro por columnas\n",
        "datafiltro[\"81_number_online_purchases_month\"] =datafiltro[\"81_number_online_purchases_month\"].fillna(method=\"ffill\")\n",
        "datafiltro"
      ],
      "metadata": {
        "id": "dkjOhdWdbGJY"
      },
      "execution_count": null,
      "outputs": []
    },
    {
      "cell_type": "code",
      "source": [
        "#Identificar valores nulos por columna\n",
        "Valore_nulos=datafiltro.isnull().sum()\n",
        "Valore_nulos"
      ],
      "metadata": {
        "id": "tLAHnYt0bLAW"
      },
      "execution_count": null,
      "outputs": []
    },
    {
      "cell_type": "code",
      "source": [
        "#Sustituir valores nulos por valores no nulos hacia adelante \"forward fill\"(\"ffill\")\n",
        "#Filtro por columnas\n",
        "datafiltro[\"288_number_app_purchases_month\"] =datafiltro[\"288_number_app_purchases_month\"].fillna(method=\"ffill\")\n",
        "datafiltro"
      ],
      "metadata": {
        "id": "Bp2N8g4GbWfz"
      },
      "execution_count": null,
      "outputs": []
    },
    {
      "cell_type": "code",
      "source": [
        "#Sustituir valores nulos por valores no nulos hacia adelante \"forward fill\"(\"ffill\")\n",
        "#Filtro por columnas\n",
        "datafiltro[\"289_number_whatsapp_purchases_month\"] =datafiltro[\"289_number_whatsapp_purchases_month\"].fillna(method=\"ffill\")\n",
        "datafiltro"
      ],
      "metadata": {
        "id": "IGXUBE9cbaiZ"
      },
      "execution_count": null,
      "outputs": []
    },
    {
      "cell_type": "code",
      "source": [
        "#Sustituir valores nulos por valores no nulos hacia adelante \"forward fill\"(\"ffill\")\n",
        "#Filtro por columnas\n",
        "datafiltro[\"83_willingness_ultrafast_delivery\"] =datafiltro[\"83_willingness_ultrafast_delivery\"].fillna(method=\"ffill\")\n",
        "datafiltro"
      ],
      "metadata": {
        "id": "nAuIria1besh"
      },
      "execution_count": null,
      "outputs": []
    },
    {
      "cell_type": "code",
      "source": [
        "#Sustituir valores nulos por valores no nulos hacia adelante \"forward fill\"(\"ffill\")\n",
        "#Filtro por columnas\n",
        "datafiltro[\"84_willingness_sameday_delivery\"] =datafiltro[\"84_willingness_sameday_delivery\"].fillna(method=\"ffill\")\n",
        "datafiltro"
      ],
      "metadata": {
        "id": "Hi5Nle0_bgol"
      },
      "execution_count": null,
      "outputs": []
    },
    {
      "cell_type": "code",
      "source": [
        "#Sustituir valores nulos por valores no nulos hacia adelante \"forward fill\"(\"ffill\")\n",
        "#Filtro por columnas\n",
        "datafiltro[\"241_age_of_the_interviewee\"] =datafiltro[\"241_age_of_the_interviewee\"].fillna(method=\"ffill\")\n",
        "datafiltro"
      ],
      "metadata": {
        "id": "g_qsp1VTbpmT"
      },
      "execution_count": null,
      "outputs": []
    },
    {
      "cell_type": "code",
      "source": [
        "#Identificar valores nulos por columna\n",
        "Valore_nulos=datafiltro.isnull().sum()\n",
        "Valore_nulos"
      ],
      "metadata": {
        "colab": {
          "base_uri": "https://localhost:8080/"
        },
        "id": "uazoarTLbuwH",
        "outputId": "f579aeaf-3aee-4b0c-a4bd-26d67412c96a"
      },
      "execution_count": null,
      "outputs": [
        {
          "output_type": "execute_result",
          "data": {
            "text/plain": [
              "_latitude                              0\n",
              "_longitude                             0\n",
              "238_frequency_buying_store             0\n",
              "81_number_online_purchases_month       0\n",
              "288_number_app_purchases_month         0\n",
              "289_number_whatsapp_purchases_month    0\n",
              "83_willingness_ultrafast_delivery      0\n",
              "84_willingness_sameday_delivery        0\n",
              "241_age_of_the_interviewee             0\n",
              "dtype: int64"
            ]
          },
          "metadata": {},
          "execution_count": 132
        }
      ]
    },
    {
      "cell_type": "code",
      "source": [
        "#Unimos columnas con el data\n",
        "\n",
        "Datos_limpios = pd.concat([cuantitativas, cualitativas], axis=1)\n",
        "Datos_limpios"
      ],
      "metadata": {
        "id": "W-NTFjgbb4A1"
      },
      "execution_count": null,
      "outputs": []
    },
    {
      "cell_type": "code",
      "source": [
        "#Convertir DataFrame a CSV\n",
        "Datos_limpios.to_csv(\"Datos_limpios_consumer.csv\")"
      ],
      "metadata": {
        "id": "Rzh7I3QEdgyf"
      },
      "execution_count": null,
      "outputs": []
    },
    {
      "cell_type": "code",
      "source": [
        "#descargar archivo filtrado en csv\n",
        "from google.colab import files \n",
        "  \n",
        "  \n",
        "files.download(\"Datos_limpios_consumer.csv\")"
      ],
      "metadata": {
        "colab": {
          "base_uri": "https://localhost:8080/",
          "height": 17
        },
        "id": "fuPe7xKEdlGs",
        "outputId": "8d2cf764-5928-498f-9a7b-c6af3ce4301d"
      },
      "execution_count": null,
      "outputs": [
        {
          "output_type": "display_data",
          "data": {
            "text/plain": [
              "<IPython.core.display.Javascript object>"
            ],
            "application/javascript": [
              "\n",
              "    async function download(id, filename, size) {\n",
              "      if (!google.colab.kernel.accessAllowed) {\n",
              "        return;\n",
              "      }\n",
              "      const div = document.createElement('div');\n",
              "      const label = document.createElement('label');\n",
              "      label.textContent = `Downloading \"${filename}\": `;\n",
              "      div.appendChild(label);\n",
              "      const progress = document.createElement('progress');\n",
              "      progress.max = size;\n",
              "      div.appendChild(progress);\n",
              "      document.body.appendChild(div);\n",
              "\n",
              "      const buffers = [];\n",
              "      let downloaded = 0;\n",
              "\n",
              "      const channel = await google.colab.kernel.comms.open(id);\n",
              "      // Send a message to notify the kernel that we're ready.\n",
              "      channel.send({})\n",
              "\n",
              "      for await (const message of channel.messages) {\n",
              "        // Send a message to notify the kernel that we're ready.\n",
              "        channel.send({})\n",
              "        if (message.buffers) {\n",
              "          for (const buffer of message.buffers) {\n",
              "            buffers.push(buffer);\n",
              "            downloaded += buffer.byteLength;\n",
              "            progress.value = downloaded;\n",
              "          }\n",
              "        }\n",
              "      }\n",
              "      const blob = new Blob(buffers, {type: 'application/binary'});\n",
              "      const a = document.createElement('a');\n",
              "      a.href = window.URL.createObjectURL(blob);\n",
              "      a.download = filename;\n",
              "      div.appendChild(a);\n",
              "      a.click();\n",
              "      div.remove();\n",
              "    }\n",
              "  "
            ]
          },
          "metadata": {}
        },
        {
          "output_type": "display_data",
          "data": {
            "text/plain": [
              "<IPython.core.display.Javascript object>"
            ],
            "application/javascript": [
              "download(\"download_adbe7692-f985-4a6d-b34c-82cef126a8ba\", \"Datos_limpios_consumer.csv\", 51215)"
            ]
          },
          "metadata": {}
        }
      ]
    }
  ]
}
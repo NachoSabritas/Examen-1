{
  "nbformat": 4,
  "nbformat_minor": 0,
  "metadata": {
    "colab": {
      "provenance": [],
      "authorship_tag": "ABX9TyPybSa66NQUgaU18sR5yiXr",
      "include_colab_link": true
    },
    "kernelspec": {
      "name": "python3",
      "display_name": "Python 3"
    },
    "language_info": {
      "name": "python"
    }
  },
  "cells": [
    {
      "cell_type": "markdown",
      "metadata": {
        "id": "view-in-github",
        "colab_type": "text"
      },
      "source": [
        "<a href=\"https://colab.research.google.com/github/NachoSabritas/Examen-1/blob/main/Examen_microretailer.ipynb\" target=\"_parent\"><img src=\"https://colab.research.google.com/assets/colab-badge.svg\" alt=\"Open In Colab\"/></a>"
      ]
    },
    {
      "cell_type": "code",
      "execution_count": null,
      "metadata": {
        "id": "RF2_y5SLC0a9"
      },
      "outputs": [],
      "source": [
        "#Instalamos libreria para analisisi de variables categoricas\n",
        "%pip install funpymodeling"
      ]
    },
    {
      "cell_type": "code",
      "source": [
        "#Importamos librerias requeridas\n",
        "import pandas as pd\n",
        "import numpy as np\n",
        "import matplotlib.pyplot as plt\n",
        "from funpymodeling.exploratory import freq_tbl\n",
        "import seaborn as sns\n",
        "import io"
      ],
      "metadata": {
        "id": "25bEkUMwDL5i"
      },
      "execution_count": 14,
      "outputs": []
    },
    {
      "cell_type": "code",
      "source": [
        "#Cargar archivo csv desde equipo\n",
        "from google.colab import files\n",
        "files.upload()"
      ],
      "metadata": {
        "id": "ltr59YFwDUvf"
      },
      "execution_count": null,
      "outputs": []
    },
    {
      "cell_type": "code",
      "source": [
        "#Cargar desde un archivo .xlsx sin indice\n",
        "data= pd.read_excel(\"microretailer_mit_lift_lab.xlsx\")"
      ],
      "metadata": {
        "id": "uNkW13_ODWnB"
      },
      "execution_count": 24,
      "outputs": []
    },
    {
      "cell_type": "code",
      "source": [
        "#Verificamos informacion del DataFrame\n",
        "data.info()\n"
      ],
      "metadata": {
        "colab": {
          "base_uri": "https://localhost:8080/"
        },
        "id": "xjmNHO0sHqCy",
        "outputId": "29daba91-a3bc-4e72-bfd8-d709f487ab38"
      },
      "execution_count": 25,
      "outputs": [
        {
          "output_type": "stream",
          "name": "stdout",
          "text": [
            "<class 'pandas.core.frame.DataFrame'>\n",
            "RangeIndex: 171 entries, 0 to 170\n",
            "Columns: 106 entries, _record_id to 235_email\n",
            "dtypes: float64(23), int64(2), object(81)\n",
            "memory usage: 141.7+ KB\n"
          ]
        }
      ]
    },
    {
      "cell_type": "code",
      "source": [
        "#Identificar valores nulos por columna\n",
        "Valore_nulos=data.isnull().sum()\n",
        "Valore_nulos"
      ],
      "metadata": {
        "id": "wqxDps-XIr19"
      },
      "execution_count": null,
      "outputs": []
    },
    {
      "cell_type": "code",
      "source": [
        "#Reemplazamos valores nulos del dataframe con \"bfill\"\n",
        "data1 =data.fillna(0) \n",
        "data1"
      ],
      "metadata": {
        "id": "U-4ujIS2KigH"
      },
      "execution_count": null,
      "outputs": []
    },
    {
      "cell_type": "code",
      "source": [
        "#Identificar valores nulos por columna\n",
        "Valore_nulos=data1.isnull().sum().sum()\n",
        "Valore_nulos"
      ],
      "metadata": {
        "id": "wm6wTiOGKsE2"
      },
      "execution_count": null,
      "outputs": []
    },
    {
      "cell_type": "code",
      "source": [
        "y=data1\n",
        "Limite_Superior= y.mean() + 3*y.std()\n",
        "Limite_Inferior= y.mean() - 3*y.std()\n",
        "print(\"Limite superior permitido\", Limite_Superior)\n",
        "print(\"Limite inferior permitido\", Limite_Inferior)"
      ],
      "metadata": {
        "id": "_tdg4iGTKyLg"
      },
      "execution_count": null,
      "outputs": []
    },
    {
      "cell_type": "code",
      "source": [
        "#Encontramos Ouliers del Dataframe\n",
        "outliers= data1[(y>Limite_Superior)|(y<Limite_Inferior)]\n",
        "outliers"
      ],
      "metadata": {
        "id": "IJNv9iL_LExh"
      },
      "execution_count": null,
      "outputs": []
    },
    {
      "cell_type": "code",
      "source": [
        "#Convertimos outliers en nulos\n",
        "datafiltro=data1[(y<=Limite_Superior)&(y>=Limite_Inferior)]\n",
        "datafiltro"
      ],
      "metadata": {
        "id": "p_65Y01yLbkC"
      },
      "execution_count": null,
      "outputs": []
    },
    {
      "cell_type": "code",
      "source": [
        "#Identificar valores nulos por columna\n",
        "Valore_nulos=datafiltro.isnull().sum()\n",
        "Valore_nulos"
      ],
      "metadata": {
        "id": "_cdYtiiqLnKX"
      },
      "execution_count": null,
      "outputs": []
    },
    {
      "cell_type": "code",
      "source": [
        "#Reemplazamos valores nulos del dataframe con \"bfill\"\n",
        "data3=datafiltro.fillna(0) \n",
        "data3"
      ],
      "metadata": {
        "id": "xrtja-lKLtoF"
      },
      "execution_count": null,
      "outputs": []
    },
    {
      "cell_type": "code",
      "source": [
        "#Identificar valores nulos por columna\n",
        "Valore_nulos=data3.isnull().sum()\n",
        "Valore_nulos"
      ],
      "metadata": {
        "id": "xUrADMMxL19v"
      },
      "execution_count": null,
      "outputs": []
    },
    {
      "cell_type": "code",
      "source": [
        "#Unimos columnas con el data\n",
        "\n",
        "Datos_limpios = pd.concat([data1, data3], axis=1)\n",
        "Datos_limpios"
      ],
      "metadata": {
        "id": "W7kKsxudMfuv"
      },
      "execution_count": null,
      "outputs": []
    },
    {
      "cell_type": "code",
      "source": [
        "#Identificar valores nulos por columna\n",
        "Valore_nulos=Datos_limpios.isnull().sum()\n",
        "Valore_nulos"
      ],
      "metadata": {
        "id": "hoRV7k1HMlQM"
      },
      "execution_count": null,
      "outputs": []
    },
    {
      "cell_type": "code",
      "source": [
        "#Convertir DataFrame a CSV\n",
        "Datos_limpios.to_csv(\"Datos_limpios_microretailer.csv\")"
      ],
      "metadata": {
        "id": "3pHZWClMMq0d"
      },
      "execution_count": 43,
      "outputs": []
    },
    {
      "cell_type": "code",
      "source": [
        "#descargar archivo filtrado en csv\n",
        "from google.colab import files \n",
        "  \n",
        "  \n",
        "files.download(\"Datos_limpios_microretailer.csv\")"
      ],
      "metadata": {
        "colab": {
          "base_uri": "https://localhost:8080/",
          "height": 17
        },
        "id": "dEWsEnElMv77",
        "outputId": "ee561b2a-38b8-45ce-8814-b5dc67b53f12"
      },
      "execution_count": 44,
      "outputs": [
        {
          "output_type": "display_data",
          "data": {
            "text/plain": [
              "<IPython.core.display.Javascript object>"
            ],
            "application/javascript": [
              "\n",
              "    async function download(id, filename, size) {\n",
              "      if (!google.colab.kernel.accessAllowed) {\n",
              "        return;\n",
              "      }\n",
              "      const div = document.createElement('div');\n",
              "      const label = document.createElement('label');\n",
              "      label.textContent = `Downloading \"${filename}\": `;\n",
              "      div.appendChild(label);\n",
              "      const progress = document.createElement('progress');\n",
              "      progress.max = size;\n",
              "      div.appendChild(progress);\n",
              "      document.body.appendChild(div);\n",
              "\n",
              "      const buffers = [];\n",
              "      let downloaded = 0;\n",
              "\n",
              "      const channel = await google.colab.kernel.comms.open(id);\n",
              "      // Send a message to notify the kernel that we're ready.\n",
              "      channel.send({})\n",
              "\n",
              "      for await (const message of channel.messages) {\n",
              "        // Send a message to notify the kernel that we're ready.\n",
              "        channel.send({})\n",
              "        if (message.buffers) {\n",
              "          for (const buffer of message.buffers) {\n",
              "            buffers.push(buffer);\n",
              "            downloaded += buffer.byteLength;\n",
              "            progress.value = downloaded;\n",
              "          }\n",
              "        }\n",
              "      }\n",
              "      const blob = new Blob(buffers, {type: 'application/binary'});\n",
              "      const a = document.createElement('a');\n",
              "      a.href = window.URL.createObjectURL(blob);\n",
              "      a.download = filename;\n",
              "      div.appendChild(a);\n",
              "      a.click();\n",
              "      div.remove();\n",
              "    }\n",
              "  "
            ]
          },
          "metadata": {}
        },
        {
          "output_type": "display_data",
          "data": {
            "text/plain": [
              "<IPython.core.display.Javascript object>"
            ],
            "application/javascript": [
              "download(\"download_3c3534a5-5a38-4ca0-965a-9358fa5cfbbc\", \"Datos_limpios_microretailer.csv\", 208059)"
            ]
          },
          "metadata": {}
        }
      ]
    }
  ]
}